{
 "cells": [
  {
   "cell_type": "markdown",
   "metadata": {},
   "source": [
    "# How to export your beautiful grid in a dataframe?"
   ]
  },
  {
   "cell_type": "markdown",
   "metadata": {},
   "source": [
    "Now you have pivoted columns, aggregated, edited your data, it is time to export the data back to python. Remember the time when fitting your data from excel to python was a pain, inefficient and time-consuming ? Then you should definitely use the export features."
   ]
  },
  {
   "cell_type": "code",
   "execution_count": null,
   "metadata": {},
   "outputs": [],
   "source": [
    "import os\n",
    "import json\n",
    "import pandas as pd\n",
    "import numpy as np\n",
    "import urllib.request as ur\n",
    "from ipyaggrid import Grid\n"
   ]
  },
  {
   "cell_type": "markdown",
   "metadata": {},
   "source": [
    "## Export simple data"
   ]
  },
  {
   "cell_type": "markdown",
   "metadata": {},
   "source": [
    "Done only some filtering and sorting ? Export simple data from your grid. In auto-export mode, you can get the data you wand directly in dataframes as you click the grid."
   ]
  },
  {
   "cell_type": "code",
   "execution_count": null,
   "metadata": {},
   "outputs": [],
   "source": [
    "def mklbl(prefix, n):\n",
    "    return [\"%s%s\" % (prefix, i) for i in range(n)]\n",
    "\n",
    "miindex = pd.MultiIndex.from_product([mklbl('A', 4),\n",
    "                                      mklbl('B', 2),\n",
    "                                      mklbl('C', 4),\n",
    "                                      mklbl('D', 2)],\n",
    "                                    names=['RowIdx-1', 'RowIdx-2', 'RowIdx-3', 'RowIdx-4'])\n",
    "index  =['-'.join(col).strip() for col in miindex.values]\n",
    "micolumns = pd.MultiIndex.from_tuples([('a', 'foo', 'zap'),\n",
    "                                       ('a', 'foo', 'zip'),\n",
    "                                       ('a', 'bar', 'zap'),\n",
    "                                       ('a', 'bar', 'zip'),\n",
    "                                       ('b', 'foo', 'zap'),\n",
    "                                       ('b', 'foo', 'zep'),\n",
    "                                       ('b', 'bah', 'zep'),\n",
    "                                       ('b', 'bah', 'zyp'),\n",
    "                                       ('b', 'bah', 'zap'),\n",
    "                                      ],\n",
    "                                      names=['ColIdx-{}'.format(i) for i in range(1, 4)])\n",
    "cols  =['-'.join(col).strip() for col in micolumns.values]\n",
    "data = np.arange(len(miindex) * len(micolumns), dtype=np.float).reshape((len(miindex),len(micolumns)))\n",
    "data = data.tolist()\n",
    "df  = pd.DataFrame(data, index=index, columns=cols).sort_index()\n",
    "df  = pd.DataFrame(data, index=index, columns=cols).sort_index()\n",
    "df.index.name = 'UniqueRow'\n",
    "df.columns.name = 'UniqueCol'\n",
    "\n",
    "column_defs_1 = [{'field': df.index.name}] + [{'field': c} for c in df.columns[:5]]\n",
    "\n",
    "\n",
    "grid_options_1 = {\n",
    "    'columnDefs' : column_defs_1,\n",
    "    'enableSorting': 'true',\n",
    "    'enableFilter': 'true',\n",
    "    'enableColResize': 'false',\n",
    "    'enableRangeSelection': 'true',\n",
    "}\n",
    "\n",
    "\n",
    "grid1 = Grid(grid_data=df,\n",
    "            grid_options=grid_options_1,\n",
    "            quick_filter=True,\n",
    "            export_csv=False,\n",
    "            export_excel=False,\n",
    "            show_toggle_edit=True,\n",
    "            export_mode=\"auto\",\n",
    "            index=True,\n",
    "            keep_multiindex=False,\n",
    "            theme='ag-theme-fresh',)\n",
    "grid1"
   ]
  },
  {
   "cell_type": "markdown",
   "metadata": {},
   "source": [
    "Now try to sort, filter and select specific parts of the grid with the range selection and observe the value of grid_data_out."
   ]
  },
  {
   "cell_type": "code",
   "execution_count": null,
   "metadata": {},
   "outputs": [],
   "source": [
    "grid1.grid_data_out['range']"
   ]
  },
  {
   "cell_type": "markdown",
   "metadata": {},
   "source": [
    "With other options like row selection, we get another way of exporting the data. Please try to remove columns, selecting several lines and observe the export values."
   ]
  },
  {
   "cell_type": "code",
   "execution_count": null,
   "metadata": {},
   "outputs": [],
   "source": [
    "column_defs_2 = [{'field': df.index.name}] + [{'field': c} for c in df.columns[:5]]\n",
    "\n",
    "\n",
    "grid_options_2 = {\n",
    "    'columnDefs' : column_defs_2,\n",
    "    'enableSorting': 'true',\n",
    "    'enableFilter': 'true',\n",
    "    'enableColResize': 'false',\n",
    "    'rowSelection': 'multiple',\n",
    "}\n",
    "\n",
    "\n",
    "grid2 = Grid(grid_data=df,\n",
    "            grid_options=grid_options_2,\n",
    "            quick_filter=True,\n",
    "            export_csv=False,\n",
    "            export_excel=False,\n",
    "            show_toggle_edit=True,\n",
    "            export_mode=\"buttons\",\n",
    "            index=True,\n",
    "            keep_multiindex=False,\n",
    "            theme='ag-theme-fresh')\n",
    "grid2"
   ]
  },
  {
   "cell_type": "code",
   "execution_count": null,
   "metadata": {
    "scrolled": true
   },
   "outputs": [],
   "source": [
    "grid2.grid_data_out['grid']"
   ]
  },
  {
   "cell_type": "markdown",
   "metadata": {},
   "source": [
    "## Exporting more complex grids"
   ]
  },
  {
   "cell_type": "markdown",
   "metadata": {},
   "source": [
    "Now let's try to export more complex grids. With huge/complex data, we often want to export the data \"as is\". The export grid feature is available with the `button-export` mode."
   ]
  },
  {
   "cell_type": "code",
   "execution_count": null,
   "metadata": {},
   "outputs": [],
   "source": [
    "url = 'https://raw.githubusercontent.com/ag-grid/ag-grid-docs/master/src/olympicWinners.json'\n",
    "with ur.urlopen(url) as res:\n",
    "    data = json.loads(res.read().decode('utf-8'))\n",
    "    "
   ]
  },
  {
   "cell_type": "code",
   "execution_count": null,
   "metadata": {},
   "outputs": [],
   "source": [
    "columnDefs = [\n",
    "    {'headerName': \"Country\", 'field': \"country\", 'width': 120, 'rowGroup': 'true'},\n",
    "    {'headerName': \"Year\", 'field': \"year\", 'width': 90, 'pivot': 'true'},\n",
    "    {'headerName': \"Sport\", 'field': \"sport\", 'width': 110, 'rowGroup': 'true'},\n",
    "    {'headerName': \"Athlete\", 'field': \"athlete\"},\n",
    "    {'headerName': \"Gold\", 'field': \"gold\", 'width': 100, 'aggFunc': 'sum'},\n",
    "    {'headerName': \"Silver\", 'field': \"silver\", 'width': 100, 'aggFunc': 'sum'},\n",
    "    {'headerName': \"Bronze\", 'field': \"bronze\", 'width': 100, 'aggFunc': 'sum'},\n",
    "];\n",
    "\n",
    "gridOptions = {\n",
    "    'pivotMode': 'true',\n",
    "    'enableColResize': 'true',\n",
    "    'columnDefs': columnDefs,\n",
    "    'enableFilter':'true',\n",
    "    'enableSorting':'true',\n",
    "    'animateRows':'true',\n",
    "};\n",
    "\n",
    "pivot = Grid(export_mode='buttons',\n",
    "             export_csv=True,\n",
    "             export_excel=True,\n",
    "             quick_filter=True,\n",
    "             theme='ag-theme-fresh',\n",
    "             compress_data=True,\n",
    "             grid_options=gridOptions,\n",
    "             grid_data=data,\n",
    "             columns_fit=\"auto\",\n",
    "            hide_grid=False, show_toggle_delete=True)\n",
    "pivot"
   ]
  },
  {
   "cell_type": "markdown",
   "metadata": {},
   "source": [
    "You could of course export the grid to CSV or Excel if you're a bit old fashioned, but an option to consider is definitely to export it directly to python via `grid_data_out`.\n",
    "\n",
    "You see that the data in the first column has been grouped several times. You can thus choose to display the aggregated data at the country level or at the sport level by incrementing the counter next to the *Export Grid* button. Then try to export the grid by clicking the button `Export Grid` and observe the result."
   ]
  },
  {
   "cell_type": "code",
   "execution_count": null,
   "metadata": {},
   "outputs": [],
   "source": [
    "pivot.grid_data_out['grid']"
   ]
  },
  {
   "cell_type": "code",
   "execution_count": null,
   "metadata": {},
   "outputs": [],
   "source": []
  }
 ],
 "metadata": {
  "kernelspec": {
   "display_name": "Python 3",
   "language": "python",
   "name": "python3"
  },
  "language_info": {
   "codemirror_mode": {
    "name": "ipython",
    "version": 3
   },
   "file_extension": ".py",
   "mimetype": "text/x-python",
   "name": "python",
   "nbconvert_exporter": "python",
   "pygments_lexer": "ipython3",
   "version": "3.7.0"
  }
 },
 "nbformat": 4,
 "nbformat_minor": 2
}
