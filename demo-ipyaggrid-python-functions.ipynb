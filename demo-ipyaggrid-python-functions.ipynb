{
 "cells": [
  {
   "cell_type": "markdown",
   "metadata": {},
   "source": [
    "# Managing the grid from python"
   ]
  },
  {
   "cell_type": "markdown",
   "metadata": {},
   "source": [
    "As the grid is completely bi-directional, you can act on the grid from python. Here are some interesting features that have been implemented."
   ]
  },
  {
   "cell_type": "code",
   "execution_count": null,
   "metadata": {},
   "outputs": [],
   "source": [
    "%load_ext autoreload\n",
    "%autoreload 2"
   ]
  },
  {
   "cell_type": "code",
   "execution_count": null,
   "metadata": {},
   "outputs": [],
   "source": [
    "import os\n",
    "import json\n",
    "import pandas as pd\n",
    "import numpy as np\n",
    "import urllib.request as ur\n",
    "from copy import deepcopy as copy\n",
    "from ipyaggrid import Grid\n"
   ]
  },
  {
   "cell_type": "code",
   "execution_count": null,
   "metadata": {},
   "outputs": [],
   "source": [
    "url = 'https://raw.githubusercontent.com/bahamas10/css-color-names/master/css-color-names.json'\n",
    "with ur.urlopen(url) as res:\n",
    "    cnames = json.loads(res.read().decode('utf-8'))\n",
    "\n",
    "colors = []\n",
    "for k in cnames.keys():\n",
    "    colors.append({'color':k, 'value':cnames[k]})\n"
   ]
  },
  {
   "cell_type": "code",
   "execution_count": null,
   "metadata": {},
   "outputs": [],
   "source": [
    "colors_ref = colors[:]"
   ]
  },
  {
   "cell_type": "markdown",
   "metadata": {},
   "source": [
    "## Exporting data via python"
   ]
  },
  {
   "cell_type": "code",
   "execution_count": null,
   "metadata": {},
   "outputs": [],
   "source": [
    "css_rules=\"\"\"\n",
    ".color-box{\n",
    "  float: left;\n",
    "  width: 10px;\n",
    "  height: 10px;\n",
    "  margin: 5px;\n",
    "  border: 1px solid rgba(0, 0, 0, .2);\n",
    "}\n",
    "\"\"\"\n",
    "\n",
    "columnDefs = [\n",
    "    {'headerName': 'Color', 'field':'color', \n",
    "     'pinned': True, 'editable': True},\n",
    "    {'headerName': 'Code', 'field':'value', 'editable': False, 'cellRenderer': \"\"\"\n",
    "        function(params){\n",
    "            return `<div><div style=\"background-color:${params.value}\" class='color-box'></div><span>${params.value}</span></div>`\n",
    "      }\"\"\"}\n",
    "]\n",
    "\n",
    "gridOptions = {'columnDefs':columnDefs,\n",
    "              'enableFilter':'true',\n",
    "              'enableSorting':'true',\n",
    "              'rowSelection':'multiple',\n",
    "              }\n",
    "\n",
    "color_grid = Grid(width=400,\n",
    "                 height=250,\n",
    "                 css_rules=css_rules,\n",
    "                 grid_data=colors,\n",
    "                 grid_options=gridOptions,\n",
    "                 sync_on_edit=True,\n",
    "                 sync_grid=True, #default\n",
    "                 )\n",
    "display(color_grid)\n"
   ]
  },
  {
   "cell_type": "markdown",
   "metadata": {},
   "source": [
    "You can use the `get_grid`, `get_selected_rows`, `get_selected_columns` (available only in rangeSelection mode) to get the data out of the grid even when deactivating the export mode."
   ]
  },
  {
   "cell_type": "code",
   "execution_count": null,
   "metadata": {},
   "outputs": [],
   "source": [
    "color_grid.get_grid()\n",
    "color_grid.get_selected_rows()\n"
   ]
  },
  {
   "cell_type": "code",
   "execution_count": null,
   "metadata": {
    "scrolled": true
   },
   "outputs": [],
   "source": [
    "color_grid.grid_data_out.get('grid')"
   ]
  },
  {
   "cell_type": "markdown",
   "metadata": {},
   "source": [
    "If you set `sync_grid=True` (default) then the grid data is automatically synced with `grid_data_out['grid']` as a dataframe."
   ]
  },
  {
   "cell_type": "code",
   "execution_count": null,
   "metadata": {
    "scrolled": true
   },
   "outputs": [],
   "source": [
    "color_grid.grid_data_out.get('grid')"
   ]
  },
  {
   "cell_type": "markdown",
   "metadata": {},
   "source": [
    "## Updating Data"
   ]
  },
  {
   "cell_type": "code",
   "execution_count": null,
   "metadata": {},
   "outputs": [],
   "source": [
    "gridOptions = {'columnDefs':columnDefs,\n",
    "              'enableFilter':'true',\n",
    "               'enableColumnResize':'true',\n",
    "               \n",
    "              'enableSorting':'true',\n",
    "              }\n",
    "\n",
    "color_grid2 = Grid(width=500,\n",
    "                 height=250,\n",
    "                 css_rules=css_rules,\n",
    "                 quick_filter=True,\n",
    "                 show_toggle_edit=True,\n",
    "                 grid_data=colors_ref,\n",
    "                 grid_options=gridOptions)\n",
    "color_grid2"
   ]
  },
  {
   "cell_type": "code",
   "execution_count": null,
   "metadata": {},
   "outputs": [],
   "source": [
    "colors = colors_ref[:]\n",
    "colors.append({'color':'jupyterorange', 'value':'#f37626'})"
   ]
  },
  {
   "cell_type": "code",
   "execution_count": null,
   "metadata": {},
   "outputs": [],
   "source": [
    "color_grid2.update_grid_data(copy(colors)) # New data set corresponding to the good columns"
   ]
  },
  {
   "cell_type": "code",
   "execution_count": null,
   "metadata": {},
   "outputs": [],
   "source": [
    "color_grid2.delete_selected_rows()"
   ]
  },
  {
   "cell_type": "code",
   "execution_count": null,
   "metadata": {},
   "outputs": [],
   "source": [
    "color_grid2.grid_data_out['grid']"
   ]
  },
  {
   "cell_type": "code",
   "execution_count": null,
   "metadata": {},
   "outputs": [],
   "source": []
  }
 ],
 "metadata": {
  "kernelspec": {
   "display_name": "aggrid",
   "language": "python",
   "name": "aggrid"
  },
  "language_info": {
   "codemirror_mode": {
    "name": "ipython",
    "version": 3
   },
   "file_extension": ".py",
   "mimetype": "text/x-python",
   "name": "python",
   "nbconvert_exporter": "python",
   "pygments_lexer": "ipython3",
   "version": "3.7.2"
  }
 },
 "nbformat": 4,
 "nbformat_minor": 2
}
