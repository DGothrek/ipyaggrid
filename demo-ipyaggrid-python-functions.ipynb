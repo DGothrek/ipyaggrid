{
 "cells": [
  {
   "cell_type": "markdown",
   "metadata": {},
   "source": [
    "# Managing the grid from python"
   ]
  },
  {
   "cell_type": "markdown",
   "metadata": {},
   "source": [
    "As the grid is completely bi-directional, you can act on the grid from python. Here are some interesting features that have been implemented."
   ]
  },
  {
   "cell_type": "code",
   "execution_count": null,
   "metadata": {},
   "outputs": [],
   "source": [
    "from ipyaggrid import Grid\n",
    "import os\n",
    "import pandas as pd\n",
    "import numpy as np\n",
    "from copy import deepcopy as copy"
   ]
  },
  {
   "cell_type": "code",
   "execution_count": null,
   "metadata": {},
   "outputs": [],
   "source": [
    "import urllib.request, json \n",
    "with urllib.request.urlopen(\"https://raw.githubusercontent.com/bahamas10/css-color-names/master/css-color-names.json\") as url:\n",
    "    cnames = json.loads(url.read().decode()) #Data for the tests\n",
    "cnames\n",
    "colors = []\n",
    "for k in cnames.keys():\n",
    "    colors.append({'color':k, 'value':cnames[k]})"
   ]
  },
  {
   "cell_type": "markdown",
   "metadata": {},
   "source": [
    "## Exporting data via python"
   ]
  },
  {
   "cell_type": "code",
   "execution_count": null,
   "metadata": {},
   "outputs": [],
   "source": [
    "css_rules=\"\"\"\n",
    ".color-box{\n",
    "  float: left;\n",
    "  width: 10px;\n",
    "  height: 10px;\n",
    "  margin: 5px;\n",
    "  border: 1px solid rgba(0, 0, 0, .2);\n",
    "}\n",
    "\"\"\"\n",
    "\n",
    "columnDefs = [{'headerName': 'Color', 'field':'color', 'pinned':'true'},\n",
    "              {'headerName': 'Code', 'field':'value', 'cellRenderer': \"\"\"\n",
    "              function(params){\n",
    "              return `<div><div style=\"background-color:${params.value}\" class='color-box'></div><span>${params.value}</span></div>`\n",
    "              }\"\"\"}]\n",
    "\n",
    "gridOptions = {'columnDefs':columnDefs,\n",
    "              'enableFilter':'true',\n",
    "              'enableSorting':'true',\n",
    "              'rowSelection':'multiple'}\n",
    "\n",
    "color_grid = Grid(width=500,\n",
    "                 height=250,\n",
    "                 css_rules=css_rules,\n",
    "                 show_toggle_edit=True,\n",
    "                 grid_data=colors,\n",
    "                 grid_options=gridOptions)\n",
    "color_grid"
   ]
  },
  {
   "cell_type": "markdown",
   "metadata": {},
   "source": [
    "You can use the `get_grid`, `get_selected_rows`, `get_selected_columns` (available only in rangeSelection mode) to get the data out of the grid even when deactivating the export mode."
   ]
  },
  {
   "cell_type": "code",
   "execution_count": null,
   "metadata": {},
   "outputs": [],
   "source": [
    "color_grid.get_grid()\n",
    "color_grid.get_selected_rows()"
   ]
  },
  {
   "cell_type": "code",
   "execution_count": null,
   "metadata": {},
   "outputs": [],
   "source": [
    "color_grid.grid_data_out"
   ]
  },
  {
   "cell_type": "markdown",
   "metadata": {},
   "source": [
    "## Updating Data"
   ]
  },
  {
   "cell_type": "code",
   "execution_count": null,
   "metadata": {},
   "outputs": [],
   "source": [
    "color_grid2 = Grid(width=500,\n",
    "                 height=250,\n",
    "                 css_rules=css_rules,\n",
    "                 quick_filter=True,\n",
    "                 grid_data=colors,\n",
    "                 grid_options=gridOptions)\n",
    "color_grid2"
   ]
  },
  {
   "cell_type": "code",
   "execution_count": null,
   "metadata": {},
   "outputs": [],
   "source": [
    "colors.append({'color':'jupyterorange', 'value':'#f37626'})"
   ]
  },
  {
   "cell_type": "code",
   "execution_count": null,
   "metadata": {},
   "outputs": [],
   "source": [
    "color_grid2.update_grid_data(copy(colors)) # New data set corresponding to the good columns"
   ]
  },
  {
   "cell_type": "code",
   "execution_count": null,
   "metadata": {},
   "outputs": [],
   "source": [
    "color_grid2.delete_selected_rows()"
   ]
  },
  {
   "cell_type": "code",
   "execution_count": null,
   "metadata": {},
   "outputs": [],
   "source": []
  },
  {
   "cell_type": "code",
   "execution_count": null,
   "metadata": {},
   "outputs": [],
   "source": []
  }
 ],
 "metadata": {
  "kernelspec": {
   "display_name": "Python 3",
   "language": "python",
   "name": "python3"
  },
  "language_info": {
   "codemirror_mode": {
    "name": "ipython",
    "version": 3
   },
   "file_extension": ".py",
   "mimetype": "text/x-python",
   "name": "python",
   "nbconvert_exporter": "python",
   "pygments_lexer": "ipython3",
   "version": "3.7.0"
  }
 },
 "nbformat": 4,
 "nbformat_minor": 2
}
