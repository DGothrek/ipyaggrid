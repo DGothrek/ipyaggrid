{
 "cells": [
  {
   "cell_type": "code",
   "execution_count": 1,
   "metadata": {},
   "outputs": [],
   "source": [
    "import os\n",
    "import requests as rq"
   ]
  },
  {
   "cell_type": "code",
   "execution_count": 2,
   "metadata": {},
   "outputs": [
    {
     "name": "stdout",
     "output_type": "stream",
     "text": [
      "https://raw.githubusercontent.com/jupyter-widgets/ipywidgets/master/packages/controls/css/labvariables.css labvariables.css\n",
      "https://raw.githubusercontent.com/jupyter-widgets/ipywidgets/master/packages/controls/css/materialcolors.css materialcolors.css\n",
      "https://raw.githubusercontent.com/jupyter-widgets/ipywidgets/master/packages/controls/css/phosphor.css phosphor.css\n",
      "https://raw.githubusercontent.com/jupyter-widgets/ipywidgets/master/packages/controls/css/widgets-base.css widgets-base.css\n",
      "https://raw.githubusercontent.com/jupyter-widgets/ipywidgets/master/packages/controls/css/widgets.css widgets.css\n"
     ]
    }
   ],
   "source": [
    "urls = [\n",
    "    'https://raw.githubusercontent.com/jupyter-widgets/ipywidgets/master/packages/controls/css/labvariables.css',\n",
    "    'https://raw.githubusercontent.com/jupyter-widgets/ipywidgets/master/packages/controls/css/materialcolors.css',\n",
    "    'https://raw.githubusercontent.com/jupyter-widgets/ipywidgets/master/packages/controls/css/phosphor.css',\n",
    "    'https://raw.githubusercontent.com/jupyter-widgets/ipywidgets/master/packages/controls/css/widgets-base.css',\n",
    "    'https://raw.githubusercontent.com/jupyter-widgets/ipywidgets/master/packages/controls/css/widgets.css',      \n",
    "] \n",
    "folder = 'ipywidgets'\n",
    "path_folder = os.path.join('..', '..', 'js', 'src', 'styles', folder)\n",
    "# print(path_folder)\n",
    "if not os.path.exists(path_folder):\n",
    "    os.makedirs(path_folder)\n",
    "\n",
    "for url in urls:\n",
    "    filename = url.split('/')[-1]\n",
    "    print(url, filename)\n",
    "    r = rq.get(url)\n",
    "    res = r.content.decode('utf-8')\n",
    "#     print (res[:100])\n",
    "    path = os.path.join('..', '..', 'js', 'src', 'styles', folder, filename)\n",
    "    with open(path, 'w') as f:\n",
    "        f.write(res)"
   ]
  },
  {
   "cell_type": "code",
   "execution_count": 3,
   "metadata": {},
   "outputs": [
    {
     "data": {
      "text/plain": [
       "'/Users/Olivier/Documents/dev/ipyaggrid/docs/notebooks'"
      ]
     },
     "execution_count": 3,
     "metadata": {},
     "output_type": "execute_result"
    }
   ],
   "source": [
    "%pwd"
   ]
  },
  {
   "cell_type": "code",
   "execution_count": null,
   "metadata": {},
   "outputs": [],
   "source": []
  }
 ],
 "metadata": {
  "kernelspec": {
   "display_name": "Python 3",
   "language": "python",
   "name": "python3"
  },
  "language_info": {
   "codemirror_mode": {
    "name": "ipython",
    "version": 3
   },
   "file_extension": ".py",
   "mimetype": "text/x-python",
   "name": "python",
   "nbconvert_exporter": "python",
   "pygments_lexer": "ipython3",
   "version": "3.7.0"
  }
 },
 "nbformat": 4,
 "nbformat_minor": 2
}
