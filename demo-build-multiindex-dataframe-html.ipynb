{
 "cells": [
  {
   "cell_type": "code",
   "execution_count": null,
   "metadata": {},
   "outputs": [],
   "source": [
    "import os\n",
    "import numpy as np\n",
    "import pandas as pd\n",
    "import jinja2 as jj\n"
   ]
  },
  {
   "cell_type": "code",
   "execution_count": null,
   "metadata": {},
   "outputs": [],
   "source": [
    "def mklbl(prefix, n):\n",
    "    return [\"%s%s\" % (prefix, i) for i in range(n)]\n",
    "\n",
    "miindex = pd.MultiIndex.from_product([mklbl('A', 4),\n",
    "                                      mklbl('B', 2),\n",
    "                                      mklbl('C', 4),\n",
    "                                      mklbl('D', 2)],\n",
    "                                    names=['RowIdx-1', 'RowIdx-2', 'RowIdx-3', 'RowIdx-4'])\n",
    "index  =['-'.join(col).strip() for col in miindex.values]\n",
    "micolumns = pd.MultiIndex.from_tuples([('a', 'foo', 'zap'),\n",
    "                                       ('a', 'foo', 'zip'),\n",
    "                                       ('a', 'bar', 'zap'),\n",
    "                                       ('a', 'bar', 'zip'),\n",
    "                                       ('b', 'foo', 'zap'),\n",
    "                                       ('b', 'foo', 'zep'),\n",
    "                                       ('b', 'bah', 'zep'),\n",
    "                                       ('b', 'bah', 'zyp'),\n",
    "                                       ('b', 'bah', 'zap'),\n",
    "                                      ],\n",
    "                                      names=['ColIdx-{}'.format(i) for i in range(1, 4)])\n",
    "cols  =['-'.join(col).strip() for col in micolumns.values]\n",
    "data = np.arange(len(miindex) * len(micolumns), dtype=np.float).reshape((len(miindex),len(micolumns)))\n",
    "data = data.tolist()\n",
    "\n",
    "\n",
    "dfrc = pd.DataFrame(data, index=miindex, columns=micolumns).sort_index().sort_index(axis=1)\n",
    "\n",
    "dfr  = pd.DataFrame(data, index=miindex, columns=cols).sort_index().sort_index(axis=1)\n",
    "dfr.columns.name = 'UniqueCol'\n",
    "\n",
    "dfc  = pd.DataFrame(data, index=index, columns=micolumns).sort_index().sort_index(axis=1)\n",
    "dfc.index.name = 'UniqueRow'\n",
    "\n",
    "df  = pd.DataFrame(data, index=index, columns=cols).sort_index()\n",
    "df.index.name = 'UniqueRow'\n",
    "df.columns.name = 'UniqueCol'\n",
    "\n",
    "dfrc.info()\n",
    "dfr.info()\n",
    "dfc.info()\n",
    "df.info()"
   ]
  },
  {
   "cell_type": "code",
   "execution_count": null,
   "metadata": {},
   "outputs": [],
   "source": [
    "dfrc.head()"
   ]
  },
  {
   "cell_type": "markdown",
   "metadata": {},
   "source": [
    "## Save df html\n",
    "Must:\n",
    "+ use notebook.css\n",
    "+ wrap dataframe.html in specific classes - like in notebook\n",
    "Result can be iframed in any doc\n"
   ]
  },
  {
   "cell_type": "code",
   "execution_count": null,
   "metadata": {},
   "outputs": [],
   "source": [
    "%%writefile templates/index.tpl.html\n",
    "\n",
    "<!DOCTYPE html>\n",
    "<html>\n",
    "\n",
    "<head>\n",
    "    <meta charset=\"utf-8\" />\n",
    "    <meta http-equiv=\"X-UA-Compatible\" content=\"IE=edge\">\n",
    "    <title>dataframe</title>\n",
    "    <meta name=\"viewport\" content=\"width=device-width, initial-scale=1\">\n",
    "    <link rel=\"stylesheet\" href=\"https://cdn.jupyter.org/notebook/5.6.0/style/style.min.css\">\n",
    "</head>\n",
    "\n",
    "<body>\n",
    "\n",
    "\n",
    "    <div class=\"output_are\">\n",
    "        <div class=\"output_subarea output_html rendered_html output_result\">\n",
    "\n",
    "            __$data.df_html$__\n",
    "\n",
    "        </div>\n",
    "    </div>\n",
    "\n",
    "</body>\n",
    "\n",
    "</html>"
   ]
  },
  {
   "cell_type": "code",
   "execution_count": null,
   "metadata": {},
   "outputs": [],
   "source": [
    "dir_template = 'templates'\n",
    "dir_dump = 'dump'\n",
    "\n",
    "loader = jj.FileSystemLoader(dir_template)\n",
    "env = jj.Environment(loader=loader,\n",
    "                     variable_start_string='__$',\n",
    "                     variable_end_string='$__',\n",
    "                     block_start_string='{-%',\n",
    "                     block_end_string='%-}'\n",
    "                     )\n",
    "\n",
    "template = env.get_template('index.tpl.html')\n",
    "# data = {'df_html': dfrc.to_html()}\n",
    "data = {'df_html': dfrc.head(10).to_html()}\n",
    "content = template.render(data=data)\n",
    "\n",
    "if not os.path.exists(dir_dump):\n",
    "    os.makedirs(dir_dump)\n",
    "\n",
    "path = os.path.join(dir_dump, 'index.html')\n",
    "with open(path, 'w') as f:\n",
    "    f.write(content)\n",
    "    print('file {} saved to disk'.format(path))\n"
   ]
  },
  {
   "cell_type": "code",
   "execution_count": null,
   "metadata": {},
   "outputs": [],
   "source": [
    "!cd dump && python -m http.server 8080"
   ]
  },
  {
   "cell_type": "code",
   "execution_count": null,
   "metadata": {},
   "outputs": [],
   "source": []
  }
 ],
 "metadata": {
  "kernelspec": {
   "display_name": "Python 3",
   "language": "python",
   "name": "python3"
  },
  "language_info": {
   "codemirror_mode": {
    "name": "ipython",
    "version": 3
   },
   "file_extension": ".py",
   "mimetype": "text/x-python",
   "name": "python",
   "nbconvert_exporter": "python",
   "pygments_lexer": "ipython3",
   "version": "3.7.0"
  }
 },
 "nbformat": 4,
 "nbformat_minor": 2
}
