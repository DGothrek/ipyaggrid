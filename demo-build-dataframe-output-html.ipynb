{
 "cells": [
  {
   "cell_type": "code",
   "execution_count": null,
   "metadata": {},
   "outputs": [],
   "source": [
    "import os\n",
    "import json\n",
    "import numpy as np\n",
    "import pandas as pd\n",
    "import jinja2 as jj\n",
    "import urllib.request as ur\n",
    "from ipyaggrid import Grid\n"
   ]
  },
  {
   "cell_type": "code",
   "execution_count": null,
   "metadata": {},
   "outputs": [],
   "source": [
    "url = 'https://raw.githubusercontent.com/ag-grid/ag-grid-docs/master/src/olympicWinners.json'\n",
    "with ur.urlopen(url) as res:\n",
    "    data = json.loads(res.read().decode('utf-8'))\n",
    "\n",
    "columnDefs = [\n",
    "    {'headerName': \"Country\", 'field': \"country\", 'rowGroup':True, 'hide':True},\n",
    "    {'headerName': \"Sport\", 'field': \"sport\", 'rowGroup':True, 'hide':True},\n",
    "    {\n",
    "        'headerName': \"Results\",\n",
    "        'children': [\n",
    "            {'headerName': \"Total\", 'field': 'total', 'columnGroupShow': 'closed', 'aggFunc':'sum'},\n",
    "            {'headerName': \"Gold\", 'field': 'gold', 'columnGroupShow': 'open', 'aggFunc':'sum'},\n",
    "            {'headerName': \"Silver\", 'field': 'silver', 'columnGroupShow': 'open', 'aggFunc':'sum'},\n",
    "            {'headerName': \"Bronze\", 'field': 'bronze', 'columnGroupShow': 'open', 'aggFunc':'sum'}\n",
    "        ]\n",
    "    },\n",
    "]\n",
    "\n",
    "\n",
    "grid_options = {\n",
    "    'columnDefs': columnDefs,\n",
    "    'enableFilter': True,\n",
    "    'enableSorting':True,\n",
    "}\n",
    "\n",
    "g = Grid(grid_data = data,\n",
    "            grid_options=grid_options, \n",
    "            export_mode=\"buttons\",\n",
    "            theme='ag-theme-balham')\n",
    "g"
   ]
  },
  {
   "cell_type": "code",
   "execution_count": null,
   "metadata": {},
   "outputs": [],
   "source": [
    "df = g.grid_data_out['grid']\n",
    "df.head()"
   ]
  },
  {
   "cell_type": "markdown",
   "metadata": {},
   "source": [
    "## Save df html\n",
    "Must:\n",
    "+ use notebook.css\n",
    "+ wrap dataframe.html in specific classes - like in notebook\n",
    "Result can be iframed in any doc\n"
   ]
  },
  {
   "cell_type": "code",
   "execution_count": null,
   "metadata": {},
   "outputs": [],
   "source": [
    "%%writefile templates/index.tpl.html\n",
    "\n",
    "<!DOCTYPE html>\n",
    "<html>\n",
    "\n",
    "<head>\n",
    "    <meta charset=\"utf-8\" />\n",
    "    <meta http-equiv=\"X-UA-Compatible\" content=\"IE=edge\">\n",
    "    <title>dataframe</title>\n",
    "    <meta name=\"viewport\" content=\"width=device-width, initial-scale=1\">\n",
    "    <link rel=\"stylesheet\" href=\"https://cdn.jupyter.org/notebook/5.6.0/style/style.min.css\">\n",
    "</head>\n",
    "\n",
    "<body>\n",
    "\n",
    "\n",
    "    <div class=\"output_are\">\n",
    "        <div class=\"output_subarea output_html rendered_html output_result\">\n",
    "\n",
    "            __$data.df_html$__\n",
    "\n",
    "        </div>\n",
    "    </div>\n",
    "\n",
    "</body>\n",
    "\n",
    "</html>"
   ]
  },
  {
   "cell_type": "code",
   "execution_count": null,
   "metadata": {},
   "outputs": [],
   "source": [
    "dir_template = 'templates'\n",
    "dir_dump = 'dump'\n",
    "\n",
    "loader = jj.FileSystemLoader(dir_template)\n",
    "env = jj.Environment(loader=loader,\n",
    "                     variable_start_string='__$',\n",
    "                     variable_end_string='$__',\n",
    "                     block_start_string='{-%',\n",
    "                     block_end_string='%-}'\n",
    "                     )\n",
    "\n",
    "template = env.get_template('index.tpl.html')\n",
    "data = {'df_html': df.head(10).to_html()}\n",
    "content = template.render(data=data)\n",
    "\n",
    "if not os.path.exists(dir_dump):\n",
    "    os.makedirs(dir_dump)\n",
    "\n",
    "path = os.path.join(dir_dump, 'index.html')\n",
    "with open(path, 'w') as f:\n",
    "    f.write(content)\n",
    "    print('file {} saved to disk'.format(path))\n"
   ]
  },
  {
   "cell_type": "code",
   "execution_count": null,
   "metadata": {},
   "outputs": [],
   "source": [
    "!cd dump && python -m http.server 8080"
   ]
  },
  {
   "cell_type": "code",
   "execution_count": null,
   "metadata": {},
   "outputs": [],
   "source": []
  }
 ],
 "metadata": {
  "kernelspec": {
   "display_name": "Python 3",
   "language": "python",
   "name": "python3"
  },
  "language_info": {
   "codemirror_mode": {
    "name": "ipython",
    "version": 3
   },
   "file_extension": ".py",
   "mimetype": "text/x-python",
   "name": "python",
   "nbconvert_exporter": "python",
   "pygments_lexer": "ipython3",
   "version": "3.7.0"
  }
 },
 "nbformat": 4,
 "nbformat_minor": 2
}
